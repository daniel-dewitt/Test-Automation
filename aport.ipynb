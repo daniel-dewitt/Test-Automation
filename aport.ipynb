{
 "cells": [
  {
   "cell_type": "markdown",
   "metadata": {},
   "source": [
    "# Aport class for I2C communication\n",
    "\n",
    "This notebook contains my Aport class and a description of how to use it. It allows you to easily read and write commands to an Aport while allowing you a lot of control over integrating reads and writes into new and existing Python scripts.\n",
    "\n",
    "The class has three dependencies, imported below: serial, serial.tools.list_ports, and time. Be sure to import them before using the class."
   ]
  },
  {
   "cell_type": "code",
   "execution_count": 1,
   "metadata": {
    "collapsed": true
   },
   "outputs": [],
   "source": [
    "import serial\n",
    "import serial.tools.list_ports\n",
    "import time"
   ]
  },
  {
   "cell_type": "markdown",
   "metadata": {},
   "source": [
    "The **Aport** class itself is contained entirely in the following cell. Run it once to initialize, then proceed to the examples below."
   ]
  },
  {
   "cell_type": "code",
   "execution_count": 2,
   "metadata": {
    "collapsed": true
   },
   "outputs": [],
   "source": [
    "class Aport:\n",
    "    def __init__(self, port=None):\n",
    "        self.port = port\n",
    "        self.register = None\n",
    "        self.configure()\n",
    "    \n",
    "    def configure(self):\n",
    "        \"\"\"Configures flow control for Aport without opening.\"\"\"\n",
    "        self.ser = serial.Serial(\n",
    "            baudrate = 115200,\n",
    "            bytesize = serial.EIGHTBITS,\n",
    "            parity = serial.PARITY_NONE,\n",
    "            stopbits = serial.STOPBITS_ONE,\n",
    "            timeout = 0.05, #2              #timeout block read\n",
    "            xonxoff = False,     #disable software flow control\n",
    "            rtscts = True,     #disable hardware (RTS/CTS) flow control\n",
    "            dsrdtr = True)#,       #disable hardware (DSR/DTR) flow control\n",
    "            #writeTimeout = 0) #2     #timeout for write\n",
    "        return\n",
    "    \n",
    "    def flush_input(self):\n",
    "        \"\"\"Flushes the Aport input buffer.\"\"\"\n",
    "        self.ser.flushInput()\n",
    "        return\n",
    "    \n",
    "    def flush_output(self):\n",
    "        \"\"\"Flushes the Aport output buffer.\"\"\"\n",
    "        self.ser.flushOutput()\n",
    "        return\n",
    "    \n",
    "    def flush(self):\n",
    "        \"\"\"Flushes both the Aport input buffer and output buffer.\"\"\"\n",
    "        self.flush_input()\n",
    "        self.flush_output()\n",
    "    \n",
    "    def is_open(self):\n",
    "        \"\"\"Returns 'True' if the Aport is open or 'False' if the Aport is closed.\"\"\"\n",
    "        return self.ser.isOpen()\n",
    "    \n",
    "    def open(self):\n",
    "        \"\"\"Opens connection to Aport. Raises an exception if connection fails.\"\"\"\n",
    "        if self.is_open():\n",
    "            try: self.flush() #flush input and output buffer\n",
    "            except: raise Exception('Failed to open port')\n",
    "        elif self.port:\n",
    "            self.ser.port = self.port\n",
    "            try: self.ser.open()\n",
    "            except: raise Exception('Failed to open port')\n",
    "        else:\n",
    "            raise Exception('Port not set')\n",
    "        return\n",
    "            \n",
    "    def close(self):\n",
    "        \"\"\"Closes connection to Aport.\"\"\"\n",
    "        if self.is_open():\n",
    "            self.ser.close()\n",
    "        else: pass\n",
    "        return\n",
    "    \n",
    "    def read(self, address, numBytes=1):\n",
    "        \"\"\"Reads the number of bytes specified by 'numBytes' in decimal (default value 1) beginning at the address specified by 'address' in hex\"\"\"\n",
    "        if not self.is_open():\n",
    "            raise Exception('Aport not open')\n",
    "            return\n",
    "        \n",
    "        if numBytes > 255: numBytes = 255\n",
    "            \n",
    "        address = '/T~' + '{0:0>2}'.format(hex(address)[2:]).upper() + '\\r'\n",
    "        address = address.encode('latin 1')\n",
    "        \n",
    "        self.ser.write(address)\n",
    "        time.sleep(0.05)\n",
    "        response = self.ser.read(100).decode('latin_1')\n",
    "        if '/MTC' not in response: raise Exception(\"Failed to set read address\")\n",
    "        self.flush()\n",
    "        \n",
    "        message = '/R' + '{0:0>3}'.format(numBytes) + '\\r'\n",
    "        message = message.encode('latin 1')\n",
    "        \n",
    "        self.ser.write(message)\n",
    "        time.sleep(numBytes/255)\n",
    "        response = self.ser.read(1000).decode('latin_1')\n",
    "        \n",
    "        if '/MRC' not in response: raise Exception(\"Failed to read memory\")\n",
    "        \n",
    "        response = response[response.find('~')+1:response.rfind('~')+3].split('~')\n",
    "        return response\n",
    "    \n",
    "    def write(self, address, data):\n",
    "        \"\"\"Writes one or more bytes contained in 'data' beginning at the address specified by 'address' in hex.\"\"\"\n",
    "        if not self.is_open():\n",
    "            raise Exception('Aport not open')\n",
    "            return\n",
    "        self.flush() #initial flush\n",
    "        address = '/T~' + '{0:0>2}'.format(hex(address)[2:]).upper()\n",
    "        \n",
    "        if isinstance(data,list):\n",
    "            data = ''.join(['~' + '{0:0>2}'.format(hex(i)[2:]).upper() for i in data]) #formatting and adding separator, then concatenating\n",
    "        else:\n",
    "            data = '~' + '{0:0>2}'.format(hex(data)[2:]).upper() #formatting and adding separator\n",
    "        \n",
    "        message = address + data\n",
    "        message = message.encode('latin 1')\n",
    "        \n",
    "        self.ser.write(message)\n",
    "        time.sleep(0.05) #TODO: make this more dynamic\n",
    "        response = self.ser.read(1000).decode('latin_1')\n",
    "        \n",
    "        if '/MTC' not in response or '*' not in response: raise Exception(\"Failed to write to memory\")\n",
    "        \n",
    "        return\n",
    "  \n",
    "    def set_register(self, register): #example register = 0xA2\n",
    "        \"\"\"Sets device registry address to the value passed in 'register' in hex.\"\"\"\n",
    "        if not self.is_open():\n",
    "            raise Exception('Aport not open')\n",
    "            return\n",
    "        if self.register == register:\n",
    "            return\n",
    "        else:\n",
    "            self.register = register\n",
    "            message = '/D' + '{0:0>2}'.format(hex(register)[2:]).upper() + '\\r'\n",
    "            message = message.encode('latin 1')\n",
    "            \n",
    "            self.ser.write(message)\n",
    "\n",
    "            response = self.ser.read(100).decode('latin_1')\n",
    "            if '*' not in response: raise Exception('Failed to set register')\n",
    "            \n",
    "            return\n",
    "    \n",
    "    def detect_port(self):\n",
    "        \"\"\"Finds Aport and sets port variable to 'COMX' where X is the COM port number. 'COMX' is then returned.\"\"\"\n",
    "        self.port = None\n",
    "        for device in serial.tools.list_ports.comports():\n",
    "            description = device.description\n",
    "            if len(description) < 12: pass #ignores descriptions too short to be Aport\n",
    "            elif description[0:5] == 'Aport': self.port = description[description.find('(')+1:description.rfind(')')]\n",
    "        return self.port"
   ]
  },
  {
   "cell_type": "markdown",
   "metadata": {},
   "source": [
    "# Initialization and connection\n",
    "You're now ready to use the **Aport** class. The first step is creating an Aport object and giving it a name."
   ]
  },
  {
   "cell_type": "code",
   "execution_count": 3,
   "metadata": {
    "collapsed": true
   },
   "outputs": [],
   "source": [
    "aport1 = Aport()"
   ]
  },
  {
   "cell_type": "markdown",
   "metadata": {},
   "source": [
    "The **Aport** class has a class variable called _port_ that stores the current COM port the Aport is occupying. We query it by calling it off our object."
   ]
  },
  {
   "cell_type": "code",
   "execution_count": 4,
   "metadata": {},
   "outputs": [
    {
     "name": "stdout",
     "output_type": "stream",
     "text": [
      "Current port: None\n"
     ]
    }
   ],
   "source": [
    "port = aport1.port\n",
    "print('Current port:', port)"
   ]
  },
  {
   "cell_type": "markdown",
   "metadata": {},
   "source": [
    "By default, the **Aport** object initializes its port to _None_. Use the **detect_port()** method to auto-detect which COM port the Aport is currently occupying. The method returns the detected COM port, or _None_ if none is found, and stores this value in the _port_ variable."
   ]
  },
  {
   "cell_type": "code",
   "execution_count": 5,
   "metadata": {},
   "outputs": [
    {
     "name": "stdout",
     "output_type": "stream",
     "text": [
      "Detected port: COM14\n",
      "Current port: COM14\n"
     ]
    }
   ],
   "source": [
    "detected_port = aport1.detect_port()\n",
    "port = aport1.port\n",
    "print('Detected port:',detected_port)\n",
    "print('Current port:',port)"
   ]
  },
  {
   "cell_type": "markdown",
   "metadata": {
    "collapsed": true
   },
   "source": [
    "You can also manually pass the port number into the **Aport** object when creating it to bypass port detection."
   ]
  },
  {
   "cell_type": "code",
   "execution_count": 6,
   "metadata": {},
   "outputs": [
    {
     "name": "stdout",
     "output_type": "stream",
     "text": [
      "Current port: COM7\n"
     ]
    }
   ],
   "source": [
    "aport2 = Aport('COM7') #initializing aport2 with COM7\n",
    "port = aport2.port\n",
    "print('Current port:', port)"
   ]
  },
  {
   "cell_type": "markdown",
   "metadata": {},
   "source": [
    "Once the **Aport** object has had its port number set, use the **open()** method to open the serial connection to the Aport. If the port number has not been set, the method throws an exception: \"Port not set.\" If the port has been set and connection fails, the method throws an exception: \"Failed to open port.\"\n",
    "\n",
    "You can also use the **is_open()** method to check if the Aport is open."
   ]
  },
  {
   "cell_type": "code",
   "execution_count": 7,
   "metadata": {},
   "outputs": [
    {
     "name": "stdout",
     "output_type": "stream",
     "text": [
      "Aport 1 is open: True\n"
     ]
    }
   ],
   "source": [
    "aport1.open()\n",
    "print('Aport 1 is open:',aport1.is_open())"
   ]
  },
  {
   "cell_type": "markdown",
   "metadata": {},
   "source": [
    "# Reading and writing\n",
    "\n",
    "Now that we've opened our connection, we set our initial register using the **set_register()** method. Simply pass in the address in hex using the format '0x00'. The method then stores the value in the _register_ variable. If the Aport has not been opened or the register fails to write, the method throws an exception."
   ]
  },
  {
   "cell_type": "code",
   "execution_count": 8,
   "metadata": {},
   "outputs": [
    {
     "name": "stdout",
     "output_type": "stream",
     "text": [
      "Current register: 176\n"
     ]
    }
   ],
   "source": [
    "aport1.set_register(0xB0) #setting register to 0xB0\n",
    "register = aport1.register\n",
    "print('Current register:',register)"
   ]
  },
  {
   "cell_type": "markdown",
   "metadata": {},
   "source": [
    "To read data through the Aport, use the **read()** method. This method takes two arguments: the start address for the read, and the number of bytes to read. The number of bytes to read is capped at 255: if you enter a higher value, it will be truncated. The method will default to reading one byte if no value is given. The method returns the read bytes in a list, even if only one byte was requested."
   ]
  },
  {
   "cell_type": "code",
   "execution_count": 9,
   "metadata": {},
   "outputs": [
    {
     "name": "stdout",
     "output_type": "stream",
     "text": [
      "One byte read from 0xFD: ['FF']\n",
      "Three bytes read from 0xFD: ['FF', 'FF', 'FF']\n"
     ]
    }
   ],
   "source": [
    "readOne = aport1.read(0xFD) #reading one byte\n",
    "readMultiple = aport1.read(0xFD,3) #reading three bytes\n",
    "print('One byte read from 0xFD:',readOne)\n",
    "print('Three bytes read from 0xFD:',readMultiple)"
   ]
  },
  {
   "cell_type": "markdown",
   "metadata": {},
   "source": [
    "To write data through the Aport, use the **write()** method. This method takes two arguments: the start address for the write, and either a single byte to write, or a list of bytes. Note that you may have to write the password bytes before you are granted permission to write some addresses."
   ]
  },
  {
   "cell_type": "code",
   "execution_count": 10,
   "metadata": {},
   "outputs": [
    {
     "name": "stdout",
     "output_type": "stream",
     "text": [
      "Individual write: ['01', '23', '45']\n",
      "Multiple write: ['AB', 'CD', 'EF']\n"
     ]
    }
   ],
   "source": [
    "#writing single bytes\n",
    "aport1.write(0xFD,0x01) #write 0x01 to address 0xFD\n",
    "aport1.write(0xFE,0x23) #write 0x23 to address 0xFE\n",
    "aport1.write(0xFF,0x45) #write 0x34 to address 0xFF\n",
    "\n",
    "readValues = aport1.read(0xFD,3)\n",
    "print('Individual write:',readValues)\n",
    "\n",
    "#writing multiple bytes\n",
    "aport1.write(0xFD,[0xAB,0xCD,0xEF]) #write 0x67 to address 0xFD, 0x89 to 0xFE, and 0xAB to 0xFF\n",
    "\n",
    "readValues = aport1.read(0xFD,3)\n",
    "print('Multiple write:',readValues)"
   ]
  },
  {
   "cell_type": "markdown",
   "metadata": {},
   "source": [
    "# Closing the Aport\n",
    "\n",
    "If you plan on reconnecting to an Aport without power cycling it, remember to close the Aport when you are done using it. Simply call the **close()** method to do so. It is often handy to incorporate this command at the end of a script."
   ]
  },
  {
   "cell_type": "code",
   "execution_count": 11,
   "metadata": {},
   "outputs": [
    {
     "name": "stdout",
     "output_type": "stream",
     "text": [
      "Aport 1 is open: False\n"
     ]
    }
   ],
   "source": [
    "aport1.close()\n",
    "print('Aport 1 is open:',aport1.is_open())"
   ]
  }
 ],
 "metadata": {
  "kernelspec": {
   "display_name": "Python 3",
   "language": "python",
   "name": "python3"
  },
  "language_info": {
   "codemirror_mode": {
    "name": "ipython",
    "version": 3
   },
   "file_extension": ".py",
   "mimetype": "text/x-python",
   "name": "python",
   "nbconvert_exporter": "python",
   "pygments_lexer": "ipython3",
   "version": "3.6.1"
  }
 },
 "nbformat": 4,
 "nbformat_minor": 2
}
