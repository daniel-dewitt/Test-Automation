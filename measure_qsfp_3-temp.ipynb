{
 "cells": [
  {
   "cell_type": "markdown",
   "metadata": {},
   "source": [
    "## Before running: DCA configuration\n",
    "Use MT-VIKI monitor switch to switch between oscilloscope (#1) and BERT (#2)\n",
    "\n",
    "1. Verify that you are using an #86105D plugin with 10G hardware filter\n",
    "2. Verify that the J-BERT is outputting through PPG PRBS-7 signal at 25.78125 Gb/s\n",
    "3. Turn on the correct source and turn off all other sources (eg. source 1, 2, etc.)\n",
    "4. Verify that the source has its hardware filter set to 10.31250 Gb/s\n",
    "5. On FlexDCA, File>Open Instrument Setup>setup_qsfp_sr4\n",
    "6. Confirm presence of 100GE-SR4 mask test measurement\n",
    "7. Set mask test source to the correct input (eg. source 1, 2, etc.)\n",
    "8. Confirm presence of TDEC[OMA XP] measurement\n",
    "9. Set TDEC source to the correct input (eg. source 1, 2, etc.)\n",
    "10. Confirm presence of average power measurement\n",
    "11. Set average power source to the correct input (eg. source 1, 2, etc.)\n",
    "\n",
    "Note: to run a code block, have cursor focus on the block, then click \"Run\" in the toolbar"
   ]
  },
  {
   "cell_type": "markdown",
   "metadata": {},
   "source": [
    "### Run the following once to connect to instruments"
   ]
  },
  {
   "cell_type": "code",
   "execution_count": 1,
   "metadata": {},
   "outputs": [
    {
     "name": "stdout",
     "output_type": "stream",
     "text": [
      "Instruments connected successfully\n"
     ]
    }
   ],
   "source": [
    "import os\n",
    "import visa\n",
    "import time\n",
    "import datetime\n",
    "import csv\n",
    "import numpy as np\n",
    "\n",
    "#test connection\n",
    "rm = visa.ResourceManager()\n",
    "#rm.list_resources() #lists available resources\n",
    "\n",
    "#connecting to relevant resources\n",
    "scope = rm.open_resource('GPIB0::7::INSTR')\n",
    "thermostream = rm.open_resource('GPIB0::30::INSTR')\n",
    "print('Instruments connected successfully')"
   ]
  },
  {
   "cell_type": "markdown",
   "metadata": {},
   "source": [
    "### Run the following once to initialize functions"
   ]
  },
  {
   "cell_type": "code",
   "execution_count": 2,
   "metadata": {},
   "outputs": [
    {
     "name": "stdout",
     "output_type": "stream",
     "text": [
      "Functions initialized successfully\n"
     ]
    }
   ],
   "source": [
    "#function performs measurements at given temperatures\n",
    "def config_temps(hot=70, amb=35, cold=0):\n",
    "    thermostream.write('SETN 0') #selecting hot\n",
    "    thermostream.write('SETP ' + repr(hot)) #setting hot\n",
    "    \n",
    "    thermostream.write('SETN 1') #selecting amb\n",
    "    thermostream.write('SETP ' + repr(amb)) #setting amb\n",
    "    \n",
    "    thermostream.write('SETN 2') #selecting cold\n",
    "    thermostream.write('SETP ' + repr(cold)) #setting cold\n",
    "\n",
    "#function runs acquisition for specified number of seconds\n",
    "def run_until(seconds,channel=1):\n",
    "    scope.write('STOP') #stop acquisition\n",
    "    scope.write('CDISplay') #clear display\n",
    "    scope.write(':SYSTem:AUTOscale')\n",
    "    scope.timeout = 10000 #sets timeout to 10 secs\n",
    "    scope.query('*OPC?') #waits for commands to finish\n",
    "    scope.write('RUN') #start acquisition\n",
    "    scope.query('*OPC?') #waits for commands to finish\n",
    "    time.sleep(seconds)\n",
    "    scope.timeout = 2000 #resets timeout to 2 secs\n",
    "\n",
    "#function updates recorded data into data array\n",
    "def update_data(data, new_data):\n",
    "    params = len(new_data)\n",
    "    for i in range(params):\n",
    "        data[i].append(new_data[i])\n",
    "\n",
    "#function exports data to csv file\n",
    "def export_data(data, headers, filename='qsfp_data'):\n",
    "    headers = zip(*headers) #transposing headers\n",
    "    data = zip(*data) #transposing data\n",
    "    with open(data_dir + filename + '.csv', \"w\") as f:\n",
    "        writer = csv.writer(f, lineterminator='\\n')\n",
    "        writer.writerows(headers) #writing headers\n",
    "        writer.writerows(data) #writing data\n",
    "        \n",
    "print('Functions initialized successfully')"
   ]
  },
  {
   "cell_type": "markdown",
   "metadata": {},
   "source": [
    "### Run the following once to initialize measurement parameters"
   ]
  },
  {
   "cell_type": "code",
   "execution_count": 3,
   "metadata": {},
   "outputs": [
    {
     "name": "stdout",
     "output_type": "stream",
     "text": [
      "Parameters initialized successfully\n"
     ]
    }
   ],
   "source": [
    "# configuring data table\n",
    "headers = [['SN'], ['Channel'], ['Voltage'], ['Temp'], ['TDEC'], ['TxMM'], ['Time'], ['TDEC_P/F'], ['TxMM_P/F'], ['Device_P/F']]\n",
    "data = [[] for i in range(len(headers))]\n",
    "\n",
    "#setting data directory\n",
    "data_dir = os.getcwd()[:33] + 'data\\\\' #The slice [:33] is tailored to the system directory - you will need to change it to slice the correct path\n",
    "as_dir = 'auto_save' #auto_save used until the user intitalizes a data file\n",
    "\n",
    "#setting image directory (Saved locally on DCA - Folders must already exist)\n",
    "image_dir = 'D:\\\\User Files\\\\Screen Images\\\\Test Automation\\\\Eye Diagrams\\\\'\n",
    "\n",
    "#Setting Thermostream Levels\n",
    "hot = 70\n",
    "amb = 35\n",
    "cold = 0\n",
    "temperatures = [hot,amb,cold]\n",
    "\n",
    "config_temps(hot,amb,cold) #configuring temperatures\n",
    "thermostream.write('SETN 1') #setting to ambient\n",
    "\n",
    "print('Parameters initialized successfully')"
   ]
  },
  {
   "cell_type": "markdown",
   "metadata": {},
   "source": [
    "### Run to create local data file\n",
    "Data is saved locally in C:\\tester2\\Test Automation\\data\n",
    "\n",
    "Data will not be saved if folder does not already exist\n",
    "\n",
    "Note: screen images are saved automatically to the DCA in D:\\User Files\\Screen Images\\Test Automation\\Eye Diagrams"
   ]
  },
  {
   "cell_type": "code",
   "execution_count": 4,
   "metadata": {},
   "outputs": [
    {
     "name": "stdout",
     "output_type": "stream",
     "text": [
      "Success!\n"
     ]
    }
   ],
   "source": [
    "#export data to specified -16path\n",
    "folder = 'AFBR-89CEDZ-DC1_Batch10EA_Test1\\\\'\n",
    "filename = 'qsfp28_esr4_data_1'\n",
    "as_dir = folder + filename\n",
    "export_data(data,headers,as_dir)\n",
    "print('Success!')"
   ]
  },
  {
   "cell_type": "markdown",
   "metadata": {},
   "source": [
    "### Run once to record and preview data\n",
    "1. Verify that 'source' is set to the correct value\n",
    "2. Verify that 'serial_number' matches the current part\n",
    "3. Verify that 'channel' matches the current channel\n",
    "4. Verify that the head is down"
   ]
  },
  {
   "cell_type": "code",
   "execution_count": 25,
   "metadata": {
    "scrolled": false
   },
   "outputs": [
    {
     "name": "stdout",
     "output_type": "stream",
     "text": [
      "What is the current serial number? AF1805GL05W\n",
      "\n",
      "Start testing? [Enter to confirm]\n",
      "Cycling to 70\n",
      "Collecting data\n",
      "TDEC: 4.7\n",
      "TxMM: 27.7\n",
      "\n",
      "WARNING: Spec not met\n",
      "\n",
      "Cycling to 35\n",
      "Collecting data\n",
      "TDEC: 4.42\n",
      "TxMM: 35.2\n",
      "\n",
      "WARNING: Spec not met\n",
      "\n",
      "Cycling to 0\n",
      "Collecting data\n",
      "TDEC: 4.26\n",
      "TxMM: 40.5\n",
      "\n",
      "WARNING: Spec not met\n",
      "\n",
      "Testing complete!\n"
     ]
    }
   ],
   "source": [
    "source = 3 #this is the DCA source channel being used to collect data\n",
    "channel = 2 #this is the current QSFP channel number\n",
    "\n",
    "tdec_max = 4.2 #this is the maximum TDEC to be within spec\n",
    "mm_min = 10 #this is the minimum TxMM to be within spec\n",
    "\n",
    "serial_number = input('What is the current serial number? ') #queries user for device serial number\n",
    "#channel = input('What is the current channel?') #queries user for device channel\n",
    "\n",
    "if not input('\\nStart testing? [Enter to confirm]') : pass #waits to begin testing until user confirms\n",
    "\n",
    "#running test\n",
    "for i in range(len(temperatures)): #iterating over temperatures in order hot-amb-cold\n",
    "    \n",
    "    #cycling temperature\n",
    "    current_temp = temperatures[i]\n",
    "    thermostream.write('SETN ' + repr(i)) #setting temperature\n",
    "    print('Cycling to ' + repr(temperatures[i]))\n",
    "    while(np.absolute(temperatures[i] - float(thermostream.query('TEMP?'))) != 0): pass #waiting for temperature to reach setpoint\n",
    "    time.sleep(90) #waiting 90 seconds after temperature reaches setpoint\n",
    "    print('Collecting data')\n",
    "    \n",
    "    #taking unfiltered eye data\n",
    "    scope.write(':SYSTem:MODE EYE') #confirming the dca is in eye mode\n",
    "    scope.write('CHANnel' + repr(source) + ':FILTer OFF') #confirming the filter is off\n",
    "    run_until(15) #acquiring for 15 seconds\n",
    "    scope.write(':DISK:SIMage:FNAMe \"' + image_dir + serial_number + '_eye_unfiltered_chan' + repr(channel) + '_' + repr(current_temp) + 'C.png\"') #writing screen image path\n",
    "    scope.write(':DISK:SIMage:SAVE') #saving screen image\n",
    "    mm = float(scope.query(':MEASure:MTESt:MARGin?')) #reading mask margin\n",
    "    scope.query('*OPC?') #waiting for issued commands to terminate\n",
    "    \n",
    "    #taking filtered eye data\n",
    "    scope.write('CHANnel' + repr(source) + ':FILTer ON') #confirming the filter is on\n",
    "    run_until(15) #acquiring for 15 seconds\n",
    "    scope.write(':DISK:SIMage:FNAMe \"' + image_dir + serial_number + '_eye_filtered_chan' + repr(channel) + '_' + repr(current_temp) + 'C.png\"')  #writing screen image path\n",
    "    scope.write(':DISK:SIMage:SAVE') #saving screen image\n",
    "    tdec = float(scope.query(':MEASure:EYE:TDEC?')) #reading TDEC\n",
    "    scope.query('*OPC?') #waiting for issued commands to terminate\n",
    "    \n",
    "    scope.write('STOP') #stopping scope\n",
    "    \n",
    "    #printing data\n",
    "    print('TDEC: ' + str(tdec)) #printing TDEC\n",
    "    print('TxMM: ' + str(mm) + '\\n') #printing mask margin\n",
    "    \n",
    "    #checking spec limits\n",
    "    tdec_pf = 'Pass'\n",
    "    mm_pf = 'Pass'\n",
    "    o_pf = 'Pass'\n",
    "    \n",
    "    if tdec > tdec_max: tdec_pf = 'Fail' #checking tdec\n",
    "    \n",
    "    if mm < mm_min: mm_pf = 'Fail' #checking mask margin\n",
    "    \n",
    "    if tdec_pf == 'Fail' or mm_pf == 'Fail':\n",
    "        o_pf = 'Fail'\n",
    "        print('WARNING: Spec limits exceeded')\n",
    "        \n",
    "    \n",
    "    now = datetime.datetime.now().strftime('%y-%m-%d %I:%M %p') #getting current time\n",
    "    new_data=[serial_number, channel, 3.3, current_temp, tdec, tdec_pf, mm, mm_pf, o_pf, now] #formatting data\n",
    "    update_data(data, new_data) #writing data to array\n",
    "\n",
    "export_data(data,headers,filename=as_dir) #exporting data to file\n",
    "\n",
    "thermostream.write('SETN 1') #resetting temperature to ambient\n",
    "\n",
    "print('Testing complete!')"
   ]
  }
 ],
 "metadata": {
  "kernelspec": {
   "display_name": "Python 3",
   "language": "python",
   "name": "python3"
  },
  "language_info": {
   "codemirror_mode": {
    "name": "ipython",
    "version": 3
   },
   "file_extension": ".py",
   "mimetype": "text/x-python",
   "name": "python",
   "nbconvert_exporter": "python",
   "pygments_lexer": "ipython3",
   "version": "3.6.1"
  }
 },
 "nbformat": 4,
 "nbformat_minor": 2
}
